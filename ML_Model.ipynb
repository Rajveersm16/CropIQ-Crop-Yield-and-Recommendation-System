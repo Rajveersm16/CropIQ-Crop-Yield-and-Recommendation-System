{
  "cells": [
    {
      "cell_type": "code",
      "execution_count": 17,
      "metadata": {
        "colab": {
          "base_uri": "https://localhost:8080/"
        },
        "id": "d5DTSTY77LW7",
        "outputId": "b962de11-bac5-441e-c373-bfab7c62804e",
        "collapsed": true
      },
      "outputs": [
        {
          "output_type": "stream",
          "name": "stdout",
          "text": [
            "Crop Yield Data:\n",
            "                    State_Name District_Name  Crop_Year       Season  \\\n",
            "0  Andaman and Nicobar Islands      NICOBARS       2000  Kharif        \n",
            "1  Andaman and Nicobar Islands      NICOBARS       2000  Kharif        \n",
            "2  Andaman and Nicobar Islands      NICOBARS       2000  Kharif        \n",
            "3  Andaman and Nicobar Islands      NICOBARS       2000  Whole Year    \n",
            "4  Andaman and Nicobar Islands      NICOBARS       2000  Whole Year    \n",
            "\n",
            "                  Crop    Area  Production  \n",
            "0             Arecanut  1254.0      2000.0  \n",
            "1  Other Kharif pulses     2.0         1.0  \n",
            "2                 Rice   102.0       321.0  \n",
            "3               Banana   176.0       641.0  \n",
            "4            Cashewnut   720.0       165.0   \n",
            "\n",
            "Data After Rainfall:\n",
            "       State_Name Crop_Type          Crop  rainfall  Area_in_hectares  \\\n",
            "0  andhra pradesh    kharif     Arhar/Tur    654.34           21400.0   \n",
            "1  andhra pradesh    kharif         Bajra    654.34            1400.0   \n",
            "2  andhra pradesh    kharif   Castor seed    654.34            1000.0   \n",
            "3  andhra pradesh    kharif  Cotton(lint)    654.34            7300.0   \n",
            "4  andhra pradesh    kharif  Dry chillies    654.34            3700.0   \n",
            "\n",
            "   Production_in_tons  Yield_ton_per_hec  Unnamed: 7  \n",
            "0              2600.0           0.121495         NaN  \n",
            "1               500.0           0.357143         NaN  \n",
            "2               100.0           0.100000         NaN  \n",
            "3              9400.0           1.287671         NaN  \n",
            "4              7100.0           1.918919         NaN   \n",
            "\n",
            "Fertilizer Data:\n",
            "   Unnamed: 0              Crop   N   P   K   pH\n",
            "0           0              Rice  80  40  40  5.5\n",
            "1           1    Jowar(Sorghum)  80  40  40  5.5\n",
            "2           2       Barley(JAV)  70  40  45  5.5\n",
            "3           3             Maize  80  40  20  5.5\n",
            "4           4  Ragi( naachnnii)  50  40  20  5.5 \n",
            "\n",
            "Final Dataset After Temperature:\n",
            "       State_Name Crop_Type          Crop  rainfall  temperature  \\\n",
            "0  andhra pradesh    kharif     Arhar/Tur    654.34    29.266667   \n",
            "1  andhra pradesh    kharif         Bajra    654.34    29.266667   \n",
            "2  andhra pradesh    kharif   Castor seed    654.34    29.266667   \n",
            "3  andhra pradesh    kharif  Cotton(lint)    654.34    29.266667   \n",
            "4  andhra pradesh    kharif  Dry chillies    654.34    29.266667   \n",
            "\n",
            "   Area_in_hectares  Production_in_tons  Yield_ton_per_hec  Unnamed: 8  \n",
            "0           21400.0              2600.0           0.121495         NaN  \n",
            "1            1400.0               500.0           0.357143         NaN  \n",
            "2            1000.0               100.0           0.100000         NaN  \n",
            "3            7300.0              9400.0           1.287671         NaN  \n",
            "4            3700.0              7100.0           1.918919         NaN   \n",
            "\n"
          ]
        }
      ],
      "source": [
        "import pandas as pd\n",
        "\n",
        "# Load datasets\n",
        "crop_yield = pd.read_csv(\"crop_yield.csv\")\n",
        "data_after_rainfall = pd.read_csv(\"Data_after_rainfall.csv\")\n",
        "fertilizer = pd.read_csv(\"Fertilizer.csv\")\n",
        "final_temp_dataset = pd.read_csv(\"Final_Dataset_after_temperature.csv\")\n",
        "\n",
        "# Inspect the first few rows of each dataset\n",
        "print(\"Crop Yield Data:\")\n",
        "print(crop_yield.head(), \"\\n\")\n",
        "\n",
        "print(\"Data After Rainfall:\")\n",
        "print(data_after_rainfall.head(), \"\\n\")\n",
        "\n",
        "print(\"Fertilizer Data:\")\n",
        "print(fertilizer.head(), \"\\n\")\n",
        "\n",
        "print(\"Final Dataset After Temperature:\")\n",
        "print(final_temp_dataset.head(), \"\\n\")\n"
      ]
    },
    {
      "cell_type": "code",
      "execution_count": 18,
      "metadata": {
        "colab": {
          "base_uri": "https://localhost:8080/",
          "height": 88
        },
        "id": "0s25qwlS8FmG",
        "outputId": "35755a69-ee29-404d-cce0-9d9dd755ba8a"
      },
      "outputs": [
        {
          "output_type": "execute_result",
          "data": {
            "text/plain": [
              "'print(\"Crop Yield State Names and Crops:\")\\nprint(crop_yield[[\\'State_Name\\', \\'Crop\\']].drop_duplicates(), \"\\n\")\\n\\nprint(\"Data After Rainfall State Names and Crops:\")\\nprint(data_after_rainfall[[\\'State_Name\\', \\'Crop\\']].drop_duplicates(), \"\\n\")\\n\\nprint(\"Fertilizer State Names and Crops:\")\\nprint(fertilizer[[\\'Crop\\']].drop_duplicates(), \"\\n\")\\n\\nprint(\"Final Temp Dataset State Names and Crops:\")\\nprint(final_temp_dataset[[\\'State_Name\\', \\'Crop\\']].drop_duplicates(), \"\\n\")'"
            ],
            "application/vnd.google.colaboratory.intrinsic+json": {
              "type": "string"
            }
          },
          "metadata": {},
          "execution_count": 18
        }
      ],
      "source": [
        "# Check unique values in the 'State_Name' and 'Crop' columns of each dataset\n",
        "'''print(\"Crop Yield State Names and Crops:\")\n",
        "print(crop_yield[['State_Name', 'Crop']].drop_duplicates(), \"\\n\")\n",
        "\n",
        "print(\"Data After Rainfall State Names and Crops:\")\n",
        "print(data_after_rainfall[['State_Name', 'Crop']].drop_duplicates(), \"\\n\")\n",
        "\n",
        "print(\"Fertilizer State Names and Crops:\")\n",
        "print(fertilizer[['Crop']].drop_duplicates(), \"\\n\")\n",
        "\n",
        "print(\"Final Temp Dataset State Names and Crops:\")\n",
        "print(final_temp_dataset[['State_Name', 'Crop']].drop_duplicates(), \"\\n\")'''\n"
      ]
    },
    {
      "cell_type": "code",
      "execution_count": 19,
      "metadata": {
        "id": "7qFP39cc8RJZ"
      },
      "outputs": [],
      "source": [
        "# Clean the 'State_Name' and 'Crop' columns by stripping whitespace and converting to lowercase\n",
        "crop_yield['State_Name'] = crop_yield['State_Name'].str.strip().str.lower()\n",
        "crop_yield['Crop'] = crop_yield['Crop'].str.strip().str.lower()\n"
      ]
    },
    {
      "cell_type": "code",
      "execution_count": 20,
      "metadata": {
        "id": "1I1eG3La8VXW"
      },
      "outputs": [],
      "source": [
        "data_after_rainfall['State_Name'] = data_after_rainfall['State_Name'].str.strip().str.lower()\n",
        "data_after_rainfall['Crop'] = data_after_rainfall['Crop'].str.strip().str.lower()\n",
        "\n",
        "fertilizer['Crop'] = fertilizer['Crop'].str.strip().str.lower()\n",
        "\n",
        "final_temp_dataset['State_Name'] = final_temp_dataset['State_Name'].str.strip().str.lower()\n",
        "final_temp_dataset['Crop'] = final_temp_dataset['Crop'].str.strip().str.lower()\n",
        "\n"
      ]
    },
    {
      "cell_type": "code",
      "execution_count": 21,
      "metadata": {
        "id": "ITDFQJbm8beW"
      },
      "outputs": [],
      "source": [
        "# Downcast columns to more efficient data types\n",
        "crop_yield['Area'] = pd.to_numeric(crop_yield['Area'], downcast='float')\n",
        "crop_yield['Production'] = pd.to_numeric(crop_yield['Production'], downcast='float')\n",
        "\n",
        "data_after_rainfall['rainfall'] = pd.to_numeric(data_after_rainfall['rainfall'], downcast='float')\n",
        "data_after_rainfall['Area_in_hectares'] = pd.to_numeric(data_after_rainfall['Area_in_hectares'], downcast='float')\n",
        "data_after_rainfall['Production_in_tons'] = pd.to_numeric(data_after_rainfall['Production_in_tons'], downcast='float')\n",
        "\n",
        "fertilizer['N'] = pd.to_numeric(fertilizer['N'], downcast='float')\n",
        "fertilizer['P'] = pd.to_numeric(fertilizer['P'], downcast='float')\n",
        "fertilizer['K'] = pd.to_numeric(fertilizer['K'], downcast='float')\n",
        "fertilizer['pH'] = pd.to_numeric(fertilizer['pH'], downcast='float')\n",
        "\n",
        "final_temp_dataset['rainfall'] = pd.to_numeric(final_temp_dataset['rainfall'], downcast='float')\n",
        "final_temp_dataset['temperature'] = pd.to_numeric(final_temp_dataset['temperature'], downcast='float')\n",
        "final_temp_dataset['Area_in_hectares'] = pd.to_numeric(final_temp_dataset['Area_in_hectares'], downcast='float')\n",
        "final_temp_dataset['Production_in_tons'] = pd.to_numeric(final_temp_dataset['Production_in_tons'], downcast='float')\n"
      ]
    },
    {
      "cell_type": "code",
      "execution_count": 22,
      "metadata": {
        "colab": {
          "base_uri": "https://localhost:8080/"
        },
        "id": "qTDrH8pL7dGx",
        "outputId": "e94bbe6f-3ec9-4ff4-adc1-2d423a8ab805"
      },
      "outputs": [
        {
          "output_type": "stream",
          "name": "stdout",
          "text": [
            "       State_Name District_Name  Crop_Year       Season     Crop   Area  \\\n",
            "0  madhya pradesh       GWALIOR       2003  Whole Year   brinjal  194.0   \n",
            "1  madhya pradesh       GWALIOR       2003  Whole Year   brinjal  194.0   \n",
            "2  madhya pradesh       GWALIOR       2003  Whole Year   brinjal  194.0   \n",
            "3  madhya pradesh       GWALIOR       2003  Whole Year   brinjal  194.0   \n",
            "4  madhya pradesh       GWALIOR       2003  Whole Year   brinjal  194.0   \n",
            "\n",
            "   Production Crop_Type_x   rainfall_x  Area_in_hectares_x  ...     P     K  \\\n",
            "0         0.0  whole year  1111.680054               100.0  ...  15.0  40.0   \n",
            "1         0.0  whole year  1111.680054               100.0  ...  15.0  40.0   \n",
            "2         0.0  whole year  1111.680054               100.0  ...  15.0  40.0   \n",
            "3         0.0  whole year  1111.680054               100.0  ...  15.0  40.0   \n",
            "4         0.0  whole year  1111.680054               100.0  ...  15.0  40.0   \n",
            "\n",
            "     pH  Crop_Type_y   rainfall_y  temperature  Area_in_hectares_y  \\\n",
            "0  6.58   whole year  1111.680054    28.648182               499.0   \n",
            "1  6.58   whole year  1111.680054    28.648182               696.0   \n",
            "2  6.58   whole year  1111.680054    28.648182                74.0   \n",
            "3  6.58   whole year  1111.680054    28.648182                94.0   \n",
            "4  6.58   whole year  1111.680054    28.648182               227.0   \n",
            "\n",
            "   Production_in_tons_y Yield_ton_per_hec_y  Unnamed: 8  \n",
            "0                   0.0                 0.0         NaN  \n",
            "1                   0.0                 0.0         NaN  \n",
            "2                   0.0                 0.0         NaN  \n",
            "3                   0.0                 0.0         NaN  \n",
            "4                   0.0                 0.0         NaN  \n",
            "\n",
            "[5 rows x 25 columns]\n"
          ]
        }
      ],
      "source": [
        "# Take a sample of the data (e.g., 10% of the original data)\n",
        "crop_yield_sample = crop_yield.sample(frac=0.1, random_state=42)\n",
        "data_after_rainfall_sample = data_after_rainfall.sample(frac=0.1, random_state=42)\n",
        "fertilizer_sample = fertilizer.sample(frac=0.1, random_state=42)\n",
        "final_temp_dataset_sample = final_temp_dataset.sample(frac=0.1, random_state=42)\n",
        "\n",
        "# Now, try the merging process with the smaller data\n",
        "merged_data = crop_yield_sample.merge(data_after_rainfall_sample, on=[\"State_Name\", \"Crop\"], how=\"inner\")\n",
        "merged_data = merged_data.merge(fertilizer_sample, on=\"Crop\", how=\"inner\")\n",
        "merged_data = merged_data.merge(final_temp_dataset_sample, on=[\"State_Name\", \"Crop\"], how=\"inner\")\n",
        "\n",
        "# Inspect the merged dataset\n",
        "print(merged_data.head())\n"
      ]
    },
    {
      "cell_type": "code",
      "execution_count": 22,
      "metadata": {
        "id": "u0uJGkq7_UHo"
      },
      "outputs": [],
      "source": []
    },
    {
      "cell_type": "code",
      "execution_count": 23,
      "metadata": {
        "colab": {
          "base_uri": "https://localhost:8080/"
        },
        "id": "E3OSZ1ld8tt9",
        "outputId": "cafe3e6a-ad06-48b1-cea8-acb32b29e301"
      },
      "outputs": [
        {
          "output_type": "stream",
          "name": "stdout",
          "text": [
            "Missing values in each column:\n",
            " State_Name                     0\n",
            "District_Name                  0\n",
            "Crop_Year                      0\n",
            "Season                         0\n",
            "Crop                           0\n",
            "Area                           0\n",
            "Production                 47699\n",
            "Crop_Type_x                    0\n",
            "rainfall_x                     0\n",
            "Area_in_hectares_x             0\n",
            "Production_in_tons_x           0\n",
            "Yield_ton_per_hec_x            0\n",
            "Unnamed: 7              22465438\n",
            "Unnamed: 0                     0\n",
            "N                              0\n",
            "P                              0\n",
            "K                              0\n",
            "pH                             0\n",
            "Crop_Type_y                    0\n",
            "rainfall_y                     0\n",
            "temperature                    0\n",
            "Area_in_hectares_y             0\n",
            "Production_in_tons_y           0\n",
            "Yield_ton_per_hec_y            0\n",
            "Unnamed: 8              22465438\n",
            "dtype: int64\n"
          ]
        }
      ],
      "source": [
        "# Check for missing values in the merged dataset\n",
        "missing_values = merged_data.isnull().sum()\n",
        "print(\"Missing values in each column:\\n\", missing_values)\n",
        "\n"
      ]
    },
    {
      "cell_type": "code",
      "execution_count": 24,
      "metadata": {
        "colab": {
          "base_uri": "https://localhost:8080/"
        },
        "id": "6-gCHXg8_VQD",
        "outputId": "1066fc1f-983a-445d-bcfb-fc775c8552e1"
      },
      "outputs": [
        {
          "output_type": "stream",
          "name": "stdout",
          "text": [
            "      Crop       Season   rainfall_x  temperature  Area_in_hectares_x\n",
            "0  brinjal  Whole Year   1111.680054    28.648182               100.0\n",
            "1  brinjal  Whole Year   1111.680054    28.648182               100.0\n",
            "2  brinjal  Whole Year   1111.680054    28.648182               100.0\n",
            "3  brinjal  Whole Year   1111.680054    28.648182               100.0\n",
            "4  brinjal  Whole Year   1111.680054    28.648182               100.0\n",
            "0    0.0\n",
            "1    0.0\n",
            "2    0.0\n",
            "3    0.0\n",
            "4    0.0\n",
            "Name: Yield_ton_per_hec_y, dtype: float64\n"
          ]
        }
      ],
      "source": [
        "# Select features and target variable\n",
        "X = merged_data[['Crop', 'Season', 'rainfall_x', 'temperature', 'Area_in_hectares_x']]  # Features\n",
        "y = merged_data['Yield_ton_per_hec_y']  # Target variable\n",
        "\n",
        "# Check the first few rows of the selected features and target\n",
        "print(X.head())\n",
        "print(y.head())\n"
      ]
    },
    {
      "cell_type": "code",
      "execution_count": 25,
      "metadata": {
        "id": "R5FYLU8qPv9F"
      },
      "outputs": [],
      "source": [
        "# One-hot encoding categorical columns\n",
        "X = pd.get_dummies(X, columns=['Crop', 'Season'])\n"
      ]
    },
    {
      "cell_type": "code",
      "source": [],
      "metadata": {
        "id": "mBoAdEqtoACb"
      },
      "execution_count": 25,
      "outputs": []
    },
    {
      "cell_type": "code",
      "execution_count": 26,
      "metadata": {
        "colab": {
          "base_uri": "https://localhost:8080/"
        },
        "id": "TUflvR7V_2sY",
        "outputId": "3181970f-acd4-4706-80f1-ef5c92e2a9ce"
      },
      "outputs": [
        {
          "output_type": "stream",
          "name": "stdout",
          "text": [
            "Training data shape: (17972350, 34), Test data shape: (4493088, 34)\n"
          ]
        }
      ],
      "source": [
        "from sklearn.model_selection import train_test_split\n",
        "\n",
        "# Split data into training and testing sets (80% for training, 20% for testing)\n",
        "X_train, X_test, y_train, y_test = train_test_split(X, y, test_size=0.2, random_state=42)\n",
        "\n",
        "print(f\"Training data shape: {X_train.shape}, Test data shape: {X_test.shape}\")\n"
      ]
    },
    {
      "cell_type": "code",
      "execution_count": 27,
      "metadata": {
        "colab": {
          "base_uri": "https://localhost:8080/"
        },
        "id": "bkYMEGVNAKO3",
        "outputId": "1ed4ae4e-8287-4a45-a7b3-174f63c1ab8e"
      },
      "outputs": [
        {
          "output_type": "stream",
          "name": "stdout",
          "text": [
            "Model training completed!\n"
          ]
        }
      ],
      "source": [
        "from sklearn.tree import DecisionTreeRegressor\n",
        "\n",
        "# Initialize the Decision Tree Regressor\n",
        "regressor = DecisionTreeRegressor(random_state=42)\n",
        "\n",
        "# Train the model\n",
        "regressor.fit(X_train, y_train)\n",
        "\n",
        "print(\"Model training completed!\")\n"
      ]
    },
    {
      "cell_type": "code",
      "execution_count": 28,
      "metadata": {
        "id": "TYq2w7idAQ3K",
        "colab": {
          "base_uri": "https://localhost:8080/"
        },
        "outputId": "c5ed26f9-33b6-4b3f-e04d-89f80f72e7b4"
      },
      "outputs": [
        {
          "output_type": "stream",
          "name": "stdout",
          "text": [
            "Predictions: [ 2.18871176  2.23352747 13.00458768 21.67574844 12.58254084]\n",
            "Actual values: [ 1.9648847   2.5        14.70285714 24.85731683 13.86666667]\n"
          ]
        }
      ],
      "source": [
        "# Make predictions on the test set\n",
        "y_pred = regressor.predict(X_test)\n",
        "\n",
        "# Print a few predictions and corresponding actual values\n",
        "print(\"Predictions:\", y_pred[:5])\n",
        "print(\"Actual values:\", y_test[:5].values)\n"
      ]
    },
    {
      "cell_type": "code",
      "execution_count": 29,
      "metadata": {
        "id": "1NDB0wgQAV1r",
        "colab": {
          "base_uri": "https://localhost:8080/"
        },
        "outputId": "322b3c73-bc99-4b70-adef-8d2dbc0c4e90"
      },
      "outputs": [
        {
          "output_type": "stream",
          "name": "stdout",
          "text": [
            "Mean Absolute Error (MAE): 1.2582848765430736\n",
            "R² Score: 0.8972288720744015\n"
          ]
        }
      ],
      "source": [
        "from sklearn.metrics import mean_absolute_error, r2_score\n",
        "\n",
        "# Calculate MAE\n",
        "mae = mean_absolute_error(y_test, y_pred)\n",
        "print(f\"Mean Absolute Error (MAE): {mae}\")\n",
        "\n",
        "# Calculate R² score\n",
        "r2 = r2_score(y_test, y_pred)\n",
        "print(f\"R² Score: {r2}\")\n"
      ]
    },
    {
      "cell_type": "code",
      "execution_count": 30,
      "metadata": {
        "id": "gM4BDhAkAwaD",
        "colab": {
          "base_uri": "https://localhost:8080/"
        },
        "outputId": "c4fcc8b4-3b8c-4bdc-c863-3ce0d63373b4"
      },
      "outputs": [
        {
          "output_type": "stream",
          "name": "stdout",
          "text": [
            "Root Mean Squared Error (RMSE): 2.5351700905616767\n"
          ]
        }
      ],
      "source": [
        "from sklearn.metrics import mean_squared_error\n",
        "import numpy as np\n",
        "\n",
        "# Calculate RMSE\n",
        "rmse = np.sqrt(mean_squared_error(y_test, y_pred))\n",
        "print(f\"Root Mean Squared Error (RMSE): {rmse}\")\n"
      ]
    },
    {
      "cell_type": "code",
      "execution_count": 31,
      "metadata": {
        "id": "pP0scII3A09X",
        "colab": {
          "base_uri": "https://localhost:8080/",
          "height": 472
        },
        "outputId": "2d3559de-21e9-488e-8394-e8f6d86bd816"
      },
      "outputs": [
        {
          "output_type": "display_data",
          "data": {
            "text/plain": [
              "<Figure size 640x480 with 1 Axes>"
            ],
            "image/png": "[encoded data removed]"
          },
          "metadata": {}
        }
      ],
      "source": [
        "import matplotlib.pyplot as plt\n",
        "\n",
        "residuals = y_test - y_pred\n",
        "plt.scatter(y_pred, residuals)\n",
        "plt.axhline(y=0, color='r', linestyle='--')\n",
        "plt.xlabel('Predicted values')\n",
        "plt.ylabel('Residuals')\n",
        "plt.title('Residuals Plot')\n",
        "plt.show()\n"
      ]
    },
    {
      "cell_type": "code",
      "execution_count": 32,
      "metadata": {
        "id": "B6koHICtA5XK",
        "colab": {
          "base_uri": "https://localhost:8080/"
        },
        "outputId": "c0a1b56f-b5ab-4e89-af8c-03afd66ef313"
      },
      "outputs": [
        {
          "output_type": "stream",
          "name": "stdout",
          "text": [
            "Model saved successfully!\n"
          ]
        }
      ],
      "source": [
        "import joblib\n",
        "\n",
        "# Save the model to a file\n",
        "joblib.dump(regressor, 'crop_yield_predictor_model.pkl')\n",
        "\n",
        "# Or if you used a tuned model\n",
        "# joblib.dump(best_regressor, 'tuned_crop_yield_predictor_model1.pkl')\n",
        "\n",
        "print(\"Model saved successfully!\")\n"
      ]
    },
    {
      "cell_type": "code",
      "execution_count": 32,
      "metadata": {
        "id": "Dh47IlKwA_qj"
      },
      "outputs": [],
      "source": []
    }
  ],
  "metadata": {
    "colab": {
      "provenance": []
    },
    "kernelspec": {
      "display_name": "Python 3",
      "name": "python3"
    },
    "language_info": {
      "name": "python"
    }
  },
  "nbformat": 4,
  "nbformat_minor": 0
}